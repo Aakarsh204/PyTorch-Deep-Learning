{
  "cells": [
    {
      "cell_type": "markdown",
      "metadata": {
        "id": "Ad2xlX5igvMQ"
      },
      "source": [
        "# PyTorch Workflow"
      ]
    },
    {
      "cell_type": "code",
      "execution_count": null,
      "metadata": {
        "colab": {
          "base_uri": "https://localhost:8080/",
          "height": 36
        },
        "id": "KN2_u1mbiyTa",
        "outputId": "2929a120-7796-425c-95e5-9d785d334c46"
      },
      "outputs": [
        {
          "output_type": "execute_result",
          "data": {
            "text/plain": [
              "'2.4.0+cu121'"
            ],
            "application/vnd.google.colaboratory.intrinsic+json": {
              "type": "string"
            }
          },
          "metadata": {},
          "execution_count": 1
        }
      ],
      "source": [
        "import torch\n",
        "from torch import nn # torch.nn contains all the building blocks for neural networks\n",
        "import matplotlib.pyplot as plt\n",
        "\n",
        "# Check PyTorch version\n",
        "torch.__version__"
      ]
    },
    {
      "cell_type": "markdown",
      "source": [
        "## Data Preparing and Loading"
      ],
      "metadata": {
        "id": "1YaO5K8xlGQU"
      }
    },
    {
      "cell_type": "markdown",
      "source": [
        "\n",
        "\n",
        "Data can be anything in ML\n",
        "\n",
        "* Excel Spreadsheet\n",
        "* Images\n",
        "* Audio\n",
        "* Text\n",
        "\n",
        "Machine Learning consists of two parts:\n",
        "1. Get data into a numerical representation\n",
        "2. Build a model to learn patterns in that numerical representation\n",
        "\n",
        "Let's start by using a linear regression formula to make a straight line with known parameters"
      ],
      "metadata": {
        "id": "dpFWMB9BkJnt"
      }
    },
    {
      "cell_type": "code",
      "source": [
        "# Create known parameters\n",
        "weight = 0.7\n",
        "bias = 0.3\n",
        "\n",
        "# Create\n",
        "start = 0\n",
        "end = 1\n",
        "step = 0.02\n",
        "X = torch.arange(start, end, step).unsqueeze(dim=1) # Note: We use capital letters for matrices or tensors and small letters for vectors\n",
        "y = weight * X + bias\n",
        "\n",
        "X[:10], y[:10]"
      ],
      "metadata": {
        "colab": {
          "base_uri": "https://localhost:8080/"
        },
        "id": "uqxr0yVilBOf",
        "outputId": "fa88eb74-1722-4e96-ef6a-7a577a4ff708"
      },
      "execution_count": null,
      "outputs": [
        {
          "output_type": "execute_result",
          "data": {
            "text/plain": [
              "(tensor([[0.0000],\n",
              "         [0.0200],\n",
              "         [0.0400],\n",
              "         [0.0600],\n",
              "         [0.0800],\n",
              "         [0.1000],\n",
              "         [0.1200],\n",
              "         [0.1400],\n",
              "         [0.1600],\n",
              "         [0.1800]]),\n",
              " tensor([[0.3000],\n",
              "         [0.3140],\n",
              "         [0.3280],\n",
              "         [0.3420],\n",
              "         [0.3560],\n",
              "         [0.3700],\n",
              "         [0.3840],\n",
              "         [0.3980],\n",
              "         [0.4120],\n",
              "         [0.4260]]))"
            ]
          },
          "metadata": {},
          "execution_count": 2
        }
      ]
    },
    {
      "cell_type": "code",
      "source": [
        "len(X), len(y)"
      ],
      "metadata": {
        "colab": {
          "base_uri": "https://localhost:8080/"
        },
        "id": "BInv140Olmao",
        "outputId": "0ab7c08e-b4d1-44d4-e73f-8c8e7d813263"
      },
      "execution_count": null,
      "outputs": [
        {
          "output_type": "execute_result",
          "data": {
            "text/plain": [
              "(50, 50)"
            ]
          },
          "metadata": {},
          "execution_count": 3
        }
      ]
    },
    {
      "cell_type": "markdown",
      "source": [
        "### Splitting data into training and test sets\n",
        "\n"
      ],
      "metadata": {
        "id": "mNwz4FuClwt4"
      }
    },
    {
      "cell_type": "code",
      "source": [
        "# Create a train/test split\n",
        "train_split = int(0.8 * len(X)) # This means that 80% of the data is the training set\n",
        "train_split"
      ],
      "metadata": {
        "colab": {
          "base_uri": "https://localhost:8080/"
        },
        "id": "fGgudKmvmPLl",
        "outputId": "621ae09e-fbd5-4925-efa5-67f955d8a131"
      },
      "execution_count": null,
      "outputs": [
        {
          "output_type": "execute_result",
          "data": {
            "text/plain": [
              "40"
            ]
          },
          "metadata": {},
          "execution_count": 4
        }
      ]
    },
    {
      "cell_type": "code",
      "source": [
        "X_train, y_train = X[:train_split], y[:train_split]\n",
        "X_test, y_test = X[train_split:], y[train_split:]\n",
        "\n",
        "len(X_train), len(y_train), len(X_test), len(y_test)"
      ],
      "metadata": {
        "colab": {
          "base_uri": "https://localhost:8080/"
        },
        "id": "zSA66t1Hm_Rb",
        "outputId": "cfbfc161-2518-4800-e190-09ecc88d6884"
      },
      "execution_count": null,
      "outputs": [
        {
          "output_type": "execute_result",
          "data": {
            "text/plain": [
              "(40, 40, 10, 10)"
            ]
          },
          "metadata": {},
          "execution_count": 5
        }
      ]
    },
    {
      "cell_type": "code",
      "source": [
        "def plot_predictions(train_data = X_train,\n",
        "                     train_labels = y_train,\n",
        "                     test_data = X_test,\n",
        "                     test_labels = y_test,\n",
        "                     predictions = None):\n",
        "  \"\"\"\n",
        "  Plots training data, test data and compares predictions\n",
        "  \"\"\"\n",
        "\n",
        "  plt.figure(figsize=(10, 7))\n",
        "\n",
        "  # Plot training data in blue\n",
        "  plt.scatter(train_data, train_labels, c='b', s=4, label='Training data')\n",
        "\n",
        "  # Plot test data in green\n",
        "  plt.scatter(test_data, test_labels, c='g', s=4, label='Testing data')\n",
        "\n",
        "  if predictions is not None:\n",
        "    # Plot the predictions if they exist\n",
        "    plt.scatter(test_data, predictions, c='r', s=4, label='Predictions')\n",
        "\n",
        "  # Show the legend\n",
        "  plt.legend(prop={'size': 14})"
      ],
      "metadata": {
        "id": "PPa-Fh45nKLP"
      },
      "execution_count": null,
      "outputs": []
    },
    {
      "cell_type": "code",
      "source": [
        "plot_predictions()"
      ],
      "metadata": {
        "colab": {
          "base_uri": "https://localhost:8080/",
          "height": 599
        },
        "id": "q0_cOiGPrVOa",
        "outputId": "f9d3b7be-7d20-40da-e4eb-f7f357994824"
      },
      "execution_count": null,
      "outputs": [
        {
          "output_type": "display_data",
          "data": {
            "text/plain": [
              "<Figure size 1000x700 with 1 Axes>"
            ],
            "image/png": "[encoded data removed]"
          },
          "metadata": {}
        }
      ]
    },
    {
      "cell_type": "markdown",
      "source": [
        "## Building a Linear Regression Model"
      ],
      "metadata": {
        "id": "cohm3yuRra0r"
      }
    },
    {
      "cell_type": "markdown",
      "source": [
        "What our model does:\n",
        "* Start with random values (weight and bias)\n",
        "* Look at training data and adjust random values to get as close to ideal value as possible\n",
        "\n",
        "How it does it:\n",
        "1. Gradient Descent\n",
        "2. Backpropagation"
      ],
      "metadata": {
        "id": "P61syZksv-de"
      }
    },
    {
      "cell_type": "code",
      "source": [
        "import torch\n",
        "from torch import nn\n",
        "# Create a class for the model\n",
        "class LinearRegressionModel(nn.Module): # almost all classes in PyTorch import from nn.Module\n",
        "  def __init__(self):\n",
        "    super().__init__()\n",
        "    self.weights = nn.Parameter(torch.randn(1,\n",
        "                                            requires_grad=True,\n",
        "                                            dtype=torch.float))\n",
        "\n",
        "    self.bias = nn.Parameter(torch.randn(1,\n",
        "                                         requires_grad=True,\n",
        "                                         dtype=torch.float))\n",
        "\n",
        "    # Forward method for computaion\n",
        "  def forward(self, x: torch.Tensor) -> torch.Tensor: # x is the input data\n",
        "    return self.weights * x + self.bias # This is the linear regression formula"
      ],
      "metadata": {
        "id": "OGyjXATbrqjo"
      },
      "execution_count": null,
      "outputs": []
    },
    {
      "cell_type": "markdown",
      "source": [
        "### PyTorch model building essentials\n",
        "\n",
        "* `torch.nn` - contains all the building blocks for computational graphs\n",
        "* `torch.nn.Parameters` - what parameters our model should try and learn\n",
        "* `torch.nn.Module` - base class for PyTorch models, if you inherit it, always overwrite forward()\n",
        "* `torch.optim` - contains all the optimization algorithms\n",
        "* `def forward()` - All nn.Module subclasses need to implement a forward() method\n",
        "\n",
        "[Cheat Sheet](https://pytorch.org/tutorials/beginner/ptcheat.html)"
      ],
      "metadata": {
        "id": "gQnsWU-Pw24R"
      }
    },
    {
      "cell_type": "markdown",
      "source": [
        "### Checking the model's contents\n",
        "\n",
        "We can do that by using the `parameters()` method\n",
        "This method returns a generator and thus needs to be converted into a list to be made viewable"
      ],
      "metadata": {
        "id": "6VYD872DzbZI"
      }
    },
    {
      "cell_type": "code",
      "source": [
        "# Create a random seed\n",
        "SEED = 42\n",
        "torch.manual_seed(SEED)\n",
        "\n",
        "# Create an instance of the model\n",
        "model_0 = LinearRegressionModel()\n",
        "\n",
        "# Check the model parameters\n",
        "list(model_0.parameters())"
      ],
      "metadata": {
        "colab": {
          "base_uri": "https://localhost:8080/"
        },
        "id": "2udSr64OcY0m",
        "outputId": "57ae6cfd-bcf6-44af-f15a-5b33b48e6bfc"
      },
      "execution_count": null,
      "outputs": [
        {
          "output_type": "execute_result",
          "data": {
            "text/plain": [
              "[Parameter containing:\n",
              " tensor([0.3367], requires_grad=True),\n",
              " Parameter containing:\n",
              " tensor([0.1288], requires_grad=True)]"
            ]
          },
          "metadata": {},
          "execution_count": 9
        }
      ]
    },
    {
      "cell_type": "code",
      "source": [
        "# List named parameters\n",
        "model_0.state_dict()"
      ],
      "metadata": {
        "colab": {
          "base_uri": "https://localhost:8080/"
        },
        "id": "ZfL_q71UcxOW",
        "outputId": "f5ad4920-c7f2-47a3-f8ff-e29b739d1e74"
      },
      "execution_count": null,
      "outputs": [
        {
          "output_type": "execute_result",
          "data": {
            "text/plain": [
              "OrderedDict([('weights', tensor([0.3367])), ('bias', tensor([0.1288]))])"
            ]
          },
          "metadata": {},
          "execution_count": 10
        }
      ]
    },
    {
      "cell_type": "markdown",
      "source": [
        "### Making predictions\n",
        "\n",
        "We will use `X_test` to see how our model predicts `y_test`\n",
        "\n",
        "When we pass data through our model, it's going to run it through the `forward()` method"
      ],
      "metadata": {
        "id": "pflTtp_0eABT"
      }
    },
    {
      "cell_type": "code",
      "source": [
        "# Make predictions with the model\n",
        "with torch.inference_mode():\n",
        "  y_preds = model_0(X_test)\n",
        "\n",
        "y_preds"
      ],
      "metadata": {
        "colab": {
          "base_uri": "https://localhost:8080/"
        },
        "id": "Ufg5DnzMnVBI",
        "outputId": "2d72a6cd-158d-48d2-d6ac-c08ff796454b"
      },
      "execution_count": null,
      "outputs": [
        {
          "output_type": "execute_result",
          "data": {
            "text/plain": [
              "tensor([[0.3982],\n",
              "        [0.4049],\n",
              "        [0.4116],\n",
              "        [0.4184],\n",
              "        [0.4251],\n",
              "        [0.4318],\n",
              "        [0.4386],\n",
              "        [0.4453],\n",
              "        [0.4520],\n",
              "        [0.4588]])"
            ]
          },
          "metadata": {},
          "execution_count": 11
        }
      ]
    },
    {
      "cell_type": "code",
      "source": [
        "plot_predictions(predictions = y_preds)"
      ],
      "metadata": {
        "colab": {
          "base_uri": "https://localhost:8080/",
          "height": 599
        },
        "id": "QZb9Vd0MnfF6",
        "outputId": "c2efa877-b848-46ea-a523-44a8d5cf9ff1"
      },
      "execution_count": null,
      "outputs": [
        {
          "output_type": "display_data",
          "data": {
            "text/plain": [
              "<Figure size 1000x700 with 1 Axes>"
            ],
            "image/png": "[encoded data removed]"
          },
          "metadata": {}
        }
      ]
    },
    {
      "cell_type": "markdown",
      "source": [
        "## Train model\n",
        "\n",
        "Training is entirely about the model learning some *known* parameters from some *unknown* or *random* parameters\n",
        "\n",
        "One such way of measuring how poor the model performance is, is a loss function\n",
        "\n",
        "* Note: Loss function is also called cost function or criterion\n",
        "\n",
        "Things needed to train a model:\n",
        "* **Loss function:** A function to measure how wrong your model is, the lesser the better\n",
        "* **Optimizer:** Adjusts the models parameters based on the model's parameters to improve the loss function\n",
        "  * The optimizer consists of the following:\n",
        "    * params - the model parameters you want to optimize\n",
        "    * lr - the learning rate\n",
        "* **Training Loop**\n",
        "* **Testing Loop**"
      ],
      "metadata": {
        "id": "HGCHC8xJoOEu"
      }
    },
    {
      "cell_type": "code",
      "source": [
        "# Setup the loss function\n",
        "loss_fn = nn.L1Loss() # L1 loss is also called MAE (Mean Absolute Error) Loss\n",
        "\n",
        "# Setup the optimizer (stochastic gradient descent)\n",
        "optimizer =  torch.optim.SGD(params = model_0.parameters(), lr = 0.01)"
      ],
      "metadata": {
        "id": "TUqoh1IFqW1T"
      },
      "execution_count": null,
      "outputs": []
    },
    {
      "cell_type": "markdown",
      "source": [
        "### Building a training loop\n",
        "\n",
        "Things needed in a training loop:\n",
        "1. Loop through the data\n",
        "2. Forward pass to make predictions\n",
        "3. Calculate the loss to compare predictions to ground truth\n",
        "4. Optimizer zero grad\n",
        "5. Backpropagation to calculate gradient of parameters w.r.t the loss\n",
        "6. Optimizer step to adjust model's parameters and improve the loss (**gradient descent**)"
      ],
      "metadata": {
        "id": "hd_bz4xa0MNb"
      }
    },
    {
      "cell_type": "code",
      "source": [
        "# Epoch - One entire loop through the data\n",
        "epochs = 200\n",
        "# Tracking values\n",
        "epoch_count = []\n",
        "loss_values = []\n",
        "test_loss_values = []\n",
        "\n",
        "# 1. Loop through the data\n",
        "for epoch in range(epochs):\n",
        "  # Set the model to training mode\n",
        "  model_0.train() # sets all parameters to turn on gradient tracking\n",
        "\n",
        "  # 2. Forward pass\n",
        "  y_pred = model_0(X_train)\n",
        "\n",
        "  # 3. Calculate the loss\n",
        "  loss = loss_fn(y_pred, y_train)\n",
        "\n",
        "  # 4. Zero the gradient on the optimizer (they accumulate by default)\n",
        "  optimizer.zero_grad()\n",
        "\n",
        "  # 5. Backpropagation\n",
        "  loss.backward()\n",
        "\n",
        "  # 6. Optimizer step\n",
        "  optimizer.step()\n",
        "\n",
        "  # Testing\n",
        "  model_0.eval() # Turns off different settings in the model not needed for testing\n",
        "\n",
        "  with torch.inference_mode():\n",
        "    # 1. Forward pass\n",
        "    test_pred = model_0(X_test)\n",
        "    # 2. Calculate the loss\n",
        "    test_loss = loss_fn(test_pred, y_test)\n",
        "\n",
        "  if epoch % 10 == 0:\n",
        "    epoch_count.append(epoch)\n",
        "    loss_values.append(loss)\n",
        "    test_loss_values.append(test_loss)\n",
        "    print(f\"Epoch: {epoch} | Loss: {loss} | Test Loss: {test_loss}\")\n",
        "    # Print the model parameters\n",
        "    print(model_0.state_dict())\n",
        "\n"
      ],
      "metadata": {
        "colab": {
          "base_uri": "https://localhost:8080/"
        },
        "id": "h05WV8DD0Oo5",
        "outputId": "0aff98ee-39b7-4784-c5ce-990216e5bf96"
      },
      "execution_count": null,
      "outputs": [
        {
          "output_type": "stream",
          "name": "stdout",
          "text": [
            "Epoch: 0 | Loss: 0.31288138031959534 | Test Loss: 0.48106518387794495\n",
            "OrderedDict([('weights', tensor([0.3406])), ('bias', tensor([0.1388]))])\n",
            "Epoch: 10 | Loss: 0.1976713240146637 | Test Loss: 0.3463551998138428\n",
            "OrderedDict([('weights', tensor([0.3796])), ('bias', tensor([0.2388]))])\n",
            "Epoch: 20 | Loss: 0.08908725529909134 | Test Loss: 0.21729660034179688\n",
            "OrderedDict([('weights', tensor([0.4184])), ('bias', tensor([0.3333]))])\n",
            "Epoch: 30 | Loss: 0.053148526698350906 | Test Loss: 0.14464017748832703\n",
            "OrderedDict([('weights', tensor([0.4512])), ('bias', tensor([0.3768]))])\n",
            "Epoch: 40 | Loss: 0.04543796554207802 | Test Loss: 0.11360953003168106\n",
            "OrderedDict([('weights', tensor([0.4748])), ('bias', tensor([0.3868]))])\n",
            "Epoch: 50 | Loss: 0.04167863354086876 | Test Loss: 0.09919948130846024\n",
            "OrderedDict([('weights', tensor([0.4938])), ('bias', tensor([0.3843]))])\n",
            "Epoch: 60 | Loss: 0.03818932920694351 | Test Loss: 0.08886633068323135\n",
            "OrderedDict([('weights', tensor([0.5116])), ('bias', tensor([0.3788]))])\n",
            "Epoch: 70 | Loss: 0.03476089984178543 | Test Loss: 0.0805937647819519\n",
            "OrderedDict([('weights', tensor([0.5288])), ('bias', tensor([0.3718]))])\n",
            "Epoch: 80 | Loss: 0.03132382780313492 | Test Loss: 0.07232122868299484\n",
            "OrderedDict([('weights', tensor([0.5459])), ('bias', tensor([0.3648]))])\n",
            "Epoch: 90 | Loss: 0.02788739837706089 | Test Loss: 0.06473556160926819\n",
            "OrderedDict([('weights', tensor([0.5629])), ('bias', tensor([0.3573]))])\n",
            "Epoch: 100 | Loss: 0.024458957836031914 | Test Loss: 0.05646304413676262\n",
            "OrderedDict([('weights', tensor([0.5800])), ('bias', tensor([0.3503]))])\n",
            "Epoch: 110 | Loss: 0.021020207554101944 | Test Loss: 0.04819049686193466\n",
            "OrderedDict([('weights', tensor([0.5972])), ('bias', tensor([0.3433]))])\n",
            "Epoch: 120 | Loss: 0.01758546568453312 | Test Loss: 0.04060482233762741\n",
            "OrderedDict([('weights', tensor([0.6141])), ('bias', tensor([0.3358]))])\n",
            "Epoch: 130 | Loss: 0.014155393466353416 | Test Loss: 0.03233227878808975\n",
            "OrderedDict([('weights', tensor([0.6313])), ('bias', tensor([0.3288]))])\n",
            "Epoch: 140 | Loss: 0.010716589167714119 | Test Loss: 0.024059748277068138\n",
            "OrderedDict([('weights', tensor([0.6485])), ('bias', tensor([0.3218]))])\n",
            "Epoch: 150 | Loss: 0.0072835334576666355 | Test Loss: 0.016474086791276932\n",
            "OrderedDict([('weights', tensor([0.6654])), ('bias', tensor([0.3143]))])\n",
            "Epoch: 160 | Loss: 0.0038517764769494534 | Test Loss: 0.008201557211577892\n",
            "OrderedDict([('weights', tensor([0.6826])), ('bias', tensor([0.3073]))])\n",
            "Epoch: 170 | Loss: 0.008932482451200485 | Test Loss: 0.005023092031478882\n",
            "OrderedDict([('weights', tensor([0.6951])), ('bias', tensor([0.2993]))])\n",
            "Epoch: 180 | Loss: 0.008932482451200485 | Test Loss: 0.005023092031478882\n",
            "OrderedDict([('weights', tensor([0.6951])), ('bias', tensor([0.2993]))])\n",
            "Epoch: 190 | Loss: 0.008932482451200485 | Test Loss: 0.005023092031478882\n",
            "OrderedDict([('weights', tensor([0.6951])), ('bias', tensor([0.2993]))])\n"
          ]
        }
      ]
    },
    {
      "cell_type": "code",
      "source": [
        "import numpy as np\n",
        "# Plotting the loss curves\n",
        "plt.plot(epoch_count, np.array(torch.tensor(loss_values).numpy()), label = 'Train Loss')\n",
        "plt.plot(epoch_count, test_loss_values, label = 'Test Loss')\n",
        "plt.title('Loss Curves')\n",
        "plt.ylabel('Loss')\n",
        "plt.xlabel('Epochs')\n",
        "plt.legend()"
      ],
      "metadata": {
        "colab": {
          "base_uri": "https://localhost:8080/",
          "height": 490
        },
        "id": "E7PhWxKRf-oe",
        "outputId": "9ad86a7d-fa7a-4b43-ca89-6d9a51f77295"
      },
      "execution_count": null,
      "outputs": [
        {
          "output_type": "execute_result",
          "data": {
            "text/plain": [
              "<matplotlib.legend.Legend at 0x7eee7009d180>"
            ]
          },
          "metadata": {},
          "execution_count": 63
        },
        {
          "output_type": "display_data",
          "data": {
            "text/plain": [
              "<Figure size 640x480 with 1 Axes>"
            ],
            "image/png": "[encoded data removed]"
          },
          "metadata": {}
        }
      ]
    },
    {
      "cell_type": "code",
      "source": [
        "plot_predictions(predictions = y_preds)"
      ],
      "metadata": {
        "colab": {
          "base_uri": "https://localhost:8080/",
          "height": 599
        },
        "id": "VU-xz6hA4SPQ",
        "outputId": "13752429-77a2-4c35-919e-d450889d5b58"
      },
      "execution_count": null,
      "outputs": [
        {
          "output_type": "display_data",
          "data": {
            "text/plain": [
              "<Figure size 1000x700 with 1 Axes>"
            ],
            "image/png": "[encoded data removed]"
          },
          "metadata": {}
        }
      ]
    },
    {
      "cell_type": "code",
      "source": [
        "with torch.inference_mode():\n",
        "  y_pred_new = model_0(X_test)"
      ],
      "metadata": {
        "id": "SRJAxvsr6Ilf"
      },
      "execution_count": null,
      "outputs": []
    },
    {
      "cell_type": "code",
      "source": [
        "plot_predictions(predictions = y_pred_new)"
      ],
      "metadata": {
        "colab": {
          "base_uri": "https://localhost:8080/",
          "height": 599
        },
        "id": "2YEd_Ecge2NH",
        "outputId": "91dc3243-6605-4245-8351-f63e69ea6fb0"
      },
      "execution_count": null,
      "outputs": [
        {
          "output_type": "display_data",
          "data": {
            "text/plain": [
              "<Figure size 1000x700 with 1 Axes>"
            ],
            "image/png": "[encoded data removed]"
          },
          "metadata": {}
        }
      ]
    },
    {
      "cell_type": "markdown",
      "source": [
        "## Saving and Loading a model in PyTorch\n",
        "\n",
        "There are three main methods to save and load models:\n",
        "\n",
        "1. `torch.save()` - allows you to save a PyTorch object in Python's pickle format\n",
        "2. `torch.load()` - allows you to load a saved PyTorch object\n",
        "3. `torch.nn.Module.load_state_dict()` - this allows you to load a model's saved state dictionary"
      ],
      "metadata": {
        "id": "x6eMqJXae3py"
      }
    },
    {
      "cell_type": "code",
      "source": [
        "# Saving our PyTorch model\n",
        "from pathlib import Path\n",
        "\n",
        "# Create model's directory\n",
        "MODEL_PATH = Path('/content/drive/MyDrive/ML Models')\n",
        "MODEL_PATH.mkdir(parents=True, exist_ok=True)\n",
        "\n",
        "# Create model's save path\n",
        "MODEL_NAME = 'pytorch_workflow_model_0.pth'\n",
        "MODEL_SAVE_PATH = MODEL_PATH / MODEL_NAME\n",
        "\n",
        "# Save the model state_dict()\n",
        "print(f'Saving model to: {MODEL_SAVE_PATH}')\n",
        "torch.save(obj = model_0.state_dict(),\n",
        "           f = MODEL_SAVE_PATH)\n"
      ],
      "metadata": {
        "colab": {
          "base_uri": "https://localhost:8080/"
        },
        "id": "i5t3P6sqh032",
        "outputId": "018cbe71-8f0a-4e9f-ddb3-53cc274b152c"
      },
      "execution_count": null,
      "outputs": [
        {
          "output_type": "stream",
          "name": "stdout",
          "text": [
            "Saving model to: /content/drive/MyDrive/ML Models/pytorch_workflow_model_0.pth\n"
          ]
        }
      ]
    },
    {
      "cell_type": "code",
      "source": [
        "# Loading the model\n",
        "from pathlib import Path\n",
        "\n",
        "# Create model's directory\n",
        "MODEL_PATH = Path('/content/drive/MyDrive/ML Models')\n",
        "MODEL_PATH.mkdir(parents=True, exist_ok=True)\n",
        "\n",
        "# Create model's save path\n",
        "MODEL_NAME = 'pytorch_workflow_model_0.pth'\n",
        "MODEL_SAVE_PATH = MODEL_PATH / MODEL_NAME\n",
        "model_0.load_state_dict(torch.load(f = MODEL_SAVE_PATH))"
      ],
      "metadata": {
        "colab": {
          "base_uri": "https://localhost:8080/"
        },
        "id": "-t45x5JnkAtY",
        "outputId": "f32fe576-e5cb-463b-e3a7-03c803783594"
      },
      "execution_count": null,
      "outputs": [
        {
          "output_type": "stream",
          "name": "stderr",
          "text": [
            "<ipython-input-15-480218e26a11>:11: FutureWarning: You are using `torch.load` with `weights_only=False` (the current default value), which uses the default pickle module implicitly. It is possible to construct malicious pickle data which will execute arbitrary code during unpickling (See https://github.com/pytorch/pytorch/blob/main/SECURITY.md#untrusted-models for more details). In a future release, the default value for `weights_only` will be flipped to `True`. This limits the functions that could be executed during unpickling. Arbitrary objects will no longer be allowed to be loaded via this mode unless they are explicitly allowlisted by the user via `torch.serialization.add_safe_globals`. We recommend you start setting `weights_only=True` for any use case where you don't have full control of the loaded file. Please open an issue on GitHub for any issues related to this experimental feature.\n",
            "  model_0.load_state_dict(torch.load(f = MODEL_SAVE_PATH))\n"
          ]
        },
        {
          "output_type": "execute_result",
          "data": {
            "text/plain": [
              "<All keys matched successfully>"
            ]
          },
          "metadata": {},
          "execution_count": 15
        }
      ]
    },
    {
      "cell_type": "code",
      "source": [
        "model_0.state_dict()"
      ],
      "metadata": {
        "colab": {
          "base_uri": "https://localhost:8080/"
        },
        "id": "_GxKKX7j8Usb",
        "outputId": "e0d8effc-6a94-4b70-e7eb-fab148e828c6"
      },
      "execution_count": null,
      "outputs": [
        {
          "output_type": "execute_result",
          "data": {
            "text/plain": [
              "OrderedDict([('weights', tensor([0.6990])), ('bias', tensor([0.3093]))])"
            ]
          },
          "metadata": {},
          "execution_count": 16
        }
      ]
    },
    {
      "cell_type": "markdown",
      "source": [
        "## Putting it all together"
      ],
      "metadata": {
        "id": "9y1Uy_dxAQsh"
      }
    },
    {
      "cell_type": "code",
      "source": [
        "# Import PyTorch and matplotlib\n",
        "import torch\n",
        "from torch import nn\n",
        "import matplotlib.pyplot as plt\n",
        "\n",
        "# Check PyTorch version\n",
        "torch.__version__"
      ],
      "metadata": {
        "colab": {
          "base_uri": "https://localhost:8080/",
          "height": 36
        },
        "id": "ngk7WxlvAvmA",
        "outputId": "3d3da19e-e102-4157-e5cc-9d1723d22241"
      },
      "execution_count": 1,
      "outputs": [
        {
          "output_type": "execute_result",
          "data": {
            "text/plain": [
              "'2.4.0+cu121'"
            ],
            "application/vnd.google.colaboratory.intrinsic+json": {
              "type": "string"
            }
          },
          "metadata": {},
          "execution_count": 1
        }
      ]
    },
    {
      "cell_type": "markdown",
      "source": [
        "Create device-agnostic code.\n",
        "\n",
        "This means if we've got access to a GPU, our code will use it (for faster computing)\n",
        "\n",
        "If no GPU is available, this code will default to using CPU"
      ],
      "metadata": {
        "id": "nDBs_x0lBMxJ"
      }
    },
    {
      "cell_type": "code",
      "source": [
        "# Setup device agnostic code\n",
        "device = 'cuda' if torch.cuda.is_available() else 'cpu'\n",
        "print(f\"Device: {device}\")"
      ],
      "metadata": {
        "colab": {
          "base_uri": "https://localhost:8080/"
        },
        "id": "QhIZbXIVBgm5",
        "outputId": "a5fde97f-04e1-49b5-dc51-026fd91a9f4d"
      },
      "execution_count": 2,
      "outputs": [
        {
          "output_type": "stream",
          "name": "stdout",
          "text": [
            "Device: cuda\n"
          ]
        }
      ]
    },
    {
      "cell_type": "markdown",
      "source": [
        "### Data"
      ],
      "metadata": {
        "id": "-BSpRk8cArAQ"
      }
    },
    {
      "cell_type": "code",
      "source": [
        "# Create some data using linear regression y = weight * X + bias\n",
        "weight = 0.7\n",
        "bias = 0.3\n",
        "\n",
        "# Create range values\n",
        "start = 0\n",
        "end = 1\n",
        "step = 0.02\n",
        "X = torch.arange(start, end, step).unsqueeze(dim=1)\n",
        "y = weight * X + bias\n",
        "X[:10], y[:10]"
      ],
      "metadata": {
        "colab": {
          "base_uri": "https://localhost:8080/"
        },
        "id": "Fk9tiNy0BKIK",
        "outputId": "06617a69-587e-41f7-9df9-7f6df53296be"
      },
      "execution_count": 3,
      "outputs": [
        {
          "output_type": "execute_result",
          "data": {
            "text/plain": [
              "(tensor([[0.0000],\n",
              "         [0.0200],\n",
              "         [0.0400],\n",
              "         [0.0600],\n",
              "         [0.0800],\n",
              "         [0.1000],\n",
              "         [0.1200],\n",
              "         [0.1400],\n",
              "         [0.1600],\n",
              "         [0.1800]]),\n",
              " tensor([[0.3000],\n",
              "         [0.3140],\n",
              "         [0.3280],\n",
              "         [0.3420],\n",
              "         [0.3560],\n",
              "         [0.3700],\n",
              "         [0.3840],\n",
              "         [0.3980],\n",
              "         [0.4120],\n",
              "         [0.4260]]))"
            ]
          },
          "metadata": {},
          "execution_count": 3
        }
      ]
    },
    {
      "cell_type": "code",
      "source": [
        "# Split data\n",
        "train_split = int(0.75 * len(X))\n",
        "X_train, y_train = X[:train_split], y[:train_split]\n",
        "X_test, y_test = X[train_split:], y[train_split:]\n",
        "\n",
        "len(X_train), len(y_train), len(X_test), len(y_test)"
      ],
      "metadata": {
        "colab": {
          "base_uri": "https://localhost:8080/"
        },
        "id": "QydLfKtWCZRS",
        "outputId": "7f614c49-1bb9-4756-f8ab-090456e7bc61"
      },
      "execution_count": 4,
      "outputs": [
        {
          "output_type": "execute_result",
          "data": {
            "text/plain": [
              "(37, 37, 13, 13)"
            ]
          },
          "metadata": {},
          "execution_count": 4
        }
      ]
    },
    {
      "cell_type": "code",
      "source": [
        "def plot_predictions(train_data = X_train,\n",
        "                     train_labels = y_train,\n",
        "                     test_data = X_test,\n",
        "                     test_labels = y_test,\n",
        "                     predictions = None):\n",
        "  \"\"\"\n",
        "  Plots training data, test data and compares predictions\n",
        "  \"\"\"\n",
        "\n",
        "  plt.figure(figsize=(10, 7))\n",
        "\n",
        "  # Plot training data in blue\n",
        "  plt.scatter(train_data, train_labels, c='b', s=4, label='Training data')\n",
        "\n",
        "  # Plot test data in green\n",
        "  plt.scatter(test_data, test_labels, c='g', s=4, label='Testing data')\n",
        "\n",
        "  if predictions is not None:\n",
        "    # Plot the predictions if they exist\n",
        "    plt.scatter(test_data, predictions, c='r', s=4, label='Predictions')\n",
        "\n",
        "  # Show the legend\n",
        "  plt.legend(prop={'size': 14})"
      ],
      "metadata": {
        "id": "--aWKZ6yFWGb"
      },
      "execution_count": 5,
      "outputs": []
    },
    {
      "cell_type": "code",
      "source": [
        "# Plot the data\n",
        "plot_predictions()"
      ],
      "metadata": {
        "colab": {
          "base_uri": "https://localhost:8080/",
          "height": 599
        },
        "id": "rcqFD3XrEzPX",
        "outputId": "2ebc304f-ea44-4c85-fd52-b22825c91145"
      },
      "execution_count": 6,
      "outputs": [
        {
          "output_type": "display_data",
          "data": {
            "text/plain": [
              "<Figure size 1000x700 with 1 Axes>"
            ],
            "image/png": "[encoded data removed]"
          },
          "metadata": {}
        }
      ]
    },
    {
      "cell_type": "markdown",
      "source": [
        "## Building a PyTorch Linear Model"
      ],
      "metadata": {
        "id": "dyKcfiYTFI_A"
      }
    },
    {
      "cell_type": "code",
      "source": [
        "# Create a linear model by subclassing nn.Module\n",
        "class LinearRegressionModelV2(nn.Module):\n",
        "  def __init__(self):\n",
        "    super().__init__()\n",
        "    # Use nn.Linear() for creating the model parameters\n",
        "    self.linear = nn.Linear(in_features = 1, out_features = 1)\n",
        "\n",
        "  def forward(self, x: torch.Tensor) -> torch.Tensor:\n",
        "    return self.linear(x)\n",
        "\n",
        "# Set the manual seed\n",
        "torch.manual_seed(42)\n",
        "model_1 = LinearRegressionModelV2()\n",
        "model_1, model_1.state_dict()"
      ],
      "metadata": {
        "id": "GL1CTtJJFv_O",
        "colab": {
          "base_uri": "https://localhost:8080/"
        },
        "outputId": "e585390f-00a3-4866-f3be-604538626e03"
      },
      "execution_count": 8,
      "outputs": [
        {
          "output_type": "execute_result",
          "data": {
            "text/plain": [
              "(LinearRegressionModelV2(\n",
              "   (linear): Linear(in_features=1, out_features=1, bias=True)\n",
              " ),\n",
              " OrderedDict([('linear.weight', tensor([[0.7645]])),\n",
              "              ('linear.bias', tensor([0.8300]))]))"
            ]
          },
          "metadata": {},
          "execution_count": 8
        }
      ]
    },
    {
      "cell_type": "code",
      "source": [
        "# Set the model to use target device\n",
        "model_1.to(device)\n",
        "next(model_1.parameters()).device"
      ],
      "metadata": {
        "colab": {
          "base_uri": "https://localhost:8080/"
        },
        "id": "hhQB1GRIn4Up",
        "outputId": "4ea73189-57a9-4031-9cfb-9cfdae877d6d"
      },
      "execution_count": 9,
      "outputs": [
        {
          "output_type": "execute_result",
          "data": {
            "text/plain": [
              "device(type='cuda', index=0)"
            ]
          },
          "metadata": {},
          "execution_count": 9
        }
      ]
    },
    {
      "cell_type": "markdown",
      "source": [
        "### Training\n",
        "\n",
        "For training we need:\n",
        "* Loss function\n",
        "* Optimizer\n",
        "* Training loop\n",
        "* Testing loop"
      ],
      "metadata": {
        "id": "98_Or6N9omtw"
      }
    },
    {
      "cell_type": "code",
      "source": [
        "# Setup loss function\n",
        "loss_fn = nn.L1Loss()\n",
        "\n",
        "# Setup optimizer\n",
        "optimizer = torch.optim.SGD(params = model_1.parameters(), lr = 0.001)"
      ],
      "metadata": {
        "id": "YL7ftHj9o8Dd"
      },
      "execution_count": 14,
      "outputs": []
    },
    {
      "cell_type": "code",
      "source": [
        "# Training loop\n",
        "torch.manual_seed(42)\n",
        "\n",
        "epochs = 200\n",
        "epoch_count = []\n",
        "loss_values = []\n",
        "test_loss_values = []\n",
        "\n",
        "# Putting data on the target device\n",
        "X_train = X_train.to(device)\n",
        "y_train = y_train.to(device)\n",
        "X_test = X_test.to(device)\n",
        "y_test = y_test.to(device)\n",
        "\n",
        "for epoch in range(epochs):\n",
        "  model_1.train()\n",
        "\n",
        "  # 1. Forward pass\n",
        "  y_pred = model_1(X_train)\n",
        "\n",
        "  # 2. Calculate loss\n",
        "  loss = loss_fn(y_pred, y_train)\n",
        "\n",
        "  # 3. Zero the gradient\n",
        "  optimizer.zero_grad()\n",
        "\n",
        "  # 4. Backpropagation\n",
        "  loss.backward()\n",
        "\n",
        "  # 5. Optimizer step\n",
        "  optimizer.step()\n",
        "\n",
        "  ### Testing\n",
        "  model_1.eval()\n",
        "  with torch.inference_mode():\n",
        "    # 1. Forward Pass\n",
        "    test_pred = model_1(X_test)\n",
        "    # 2. Calculate loss\n",
        "    test_loss = loss_fn(test_pred, y_test)\n",
        "\n",
        "  if epoch % 10 == 0:\n",
        "    epoch_count.append(epoch)\n",
        "    loss_values.append(loss)\n",
        "    test_loss_values.append(test_loss)\n",
        "    print(f\"Epoch: {epoch} | Loss: {loss} | Test Loss: {test_loss}\")"
      ],
      "metadata": {
        "colab": {
          "base_uri": "https://localhost:8080/"
        },
        "id": "HG9pe9_HpNMY",
        "outputId": "afb62bc2-ef57-4f57-d839-7a1e1cbdf3ab"
      },
      "execution_count": 15,
      "outputs": [
        {
          "output_type": "stream",
          "name": "stdout",
          "text": [
            "Epoch: 0 | Loss: 0.005238604731857777 | Test Loss: 0.008589084260165691\n",
            "Epoch: 10 | Loss: 0.0012158413883298635 | Test Loss: 0.0030818902887403965\n",
            "Epoch: 20 | Loss: 0.0009142104536294937 | Test Loss: 0.0022763472516089678\n",
            "Epoch: 30 | Loss: 0.0006133970455266535 | Test Loss: 0.0014708088710904121\n",
            "Epoch: 40 | Loss: 0.0003131547709926963 | Test Loss: 0.0007369564264081419\n",
            "Epoch: 50 | Loss: 0.00048058180254884064 | Test Loss: 0.0011490079341456294\n",
            "Epoch: 60 | Loss: 0.00048058180254884064 | Test Loss: 0.0011490079341456294\n",
            "Epoch: 70 | Loss: 0.00048058180254884064 | Test Loss: 0.0011490079341456294\n",
            "Epoch: 80 | Loss: 0.00048058180254884064 | Test Loss: 0.0011490079341456294\n",
            "Epoch: 90 | Loss: 0.00048058180254884064 | Test Loss: 0.0011490079341456294\n",
            "Epoch: 100 | Loss: 0.00048058180254884064 | Test Loss: 0.0011490079341456294\n",
            "Epoch: 110 | Loss: 0.00048058180254884064 | Test Loss: 0.0011490079341456294\n",
            "Epoch: 120 | Loss: 0.00048058180254884064 | Test Loss: 0.0011490079341456294\n",
            "Epoch: 130 | Loss: 0.00048058180254884064 | Test Loss: 0.0011490079341456294\n",
            "Epoch: 140 | Loss: 0.00048058180254884064 | Test Loss: 0.0011490079341456294\n",
            "Epoch: 150 | Loss: 0.00048058180254884064 | Test Loss: 0.0011490079341456294\n",
            "Epoch: 160 | Loss: 0.00048058180254884064 | Test Loss: 0.0011490079341456294\n",
            "Epoch: 170 | Loss: 0.00048058180254884064 | Test Loss: 0.0011490079341456294\n",
            "Epoch: 180 | Loss: 0.00048058180254884064 | Test Loss: 0.0011490079341456294\n",
            "Epoch: 190 | Loss: 0.00048058180254884064 | Test Loss: 0.0011490079341456294\n"
          ]
        }
      ]
    },
    {
      "cell_type": "code",
      "source": [
        "model_1.state_dict()"
      ],
      "metadata": {
        "colab": {
          "base_uri": "https://localhost:8080/"
        },
        "id": "mp09xhNFqm8A",
        "outputId": "a7647f30-fb38-4f3e-ecb5-7004f228b8d3"
      },
      "execution_count": 16,
      "outputs": [
        {
          "output_type": "execute_result",
          "data": {
            "text/plain": [
              "OrderedDict([('linear.weight', tensor([[0.6994]], device='cuda:0')),\n",
              "             ('linear.bias', tensor([0.3007], device='cuda:0'))])"
            ]
          },
          "metadata": {},
          "execution_count": 16
        }
      ]
    },
    {
      "cell_type": "markdown",
      "source": [
        "### Making and evaluating predictions"
      ],
      "metadata": {
        "id": "00euFOf-rbDv"
      }
    },
    {
      "cell_type": "code",
      "source": [
        "# Turning model to evaluation mode\n",
        "model_1.eval()\n",
        "\n",
        "# Make predictions\n",
        "with torch.inference_mode():\n",
        "  y_preds = model_1(X_test)\n",
        "y_preds"
      ],
      "metadata": {
        "colab": {
          "base_uri": "https://localhost:8080/"
        },
        "id": "QLIVKpo3sE9S",
        "outputId": "77ab7e86-256a-4070-8e15-86f9adc0eca4"
      },
      "execution_count": 17,
      "outputs": [
        {
          "output_type": "execute_result",
          "data": {
            "text/plain": [
              "tensor([[0.8182],\n",
              "        [0.8322],\n",
              "        [0.8462],\n",
              "        [0.8602],\n",
              "        [0.8742],\n",
              "        [0.8882],\n",
              "        [0.9022],\n",
              "        [0.9161],\n",
              "        [0.9301],\n",
              "        [0.9441],\n",
              "        [0.9581],\n",
              "        [0.9721],\n",
              "        [0.9861]], device='cuda:0')"
            ]
          },
          "metadata": {},
          "execution_count": 17
        }
      ]
    },
    {
      "cell_type": "code",
      "source": [
        "# Plot our predictions\n",
        "plot_predictions(predictions = y_preds.cpu())"
      ],
      "metadata": {
        "colab": {
          "base_uri": "https://localhost:8080/",
          "height": 599
        },
        "id": "Zk3nOhqisTZZ",
        "outputId": "7bb9c3c4-9425-4357-fcf1-edaae56152b1"
      },
      "execution_count": 18,
      "outputs": [
        {
          "output_type": "display_data",
          "data": {
            "text/plain": [
              "<Figure size 1000x700 with 1 Axes>"
            ],
            "image/png": "[encoded data removed]"
          },
          "metadata": {}
        }
      ]
    },
    {
      "cell_type": "markdown",
      "source": [
        "### Saving and Loading the model"
      ],
      "metadata": {
        "id": "-3-x9gH0seZL"
      }
    },
    {
      "cell_type": "code",
      "source": [
        "from pathlib import Path\n",
        "MODEL_PATH = Path('/content/drive/MyDrive/ML Models')\n",
        "MODEL_PATH.mkdir(parents=True, exist_ok=True)\n",
        "\n",
        "MODEL_NAME = 'pytorch_workflow_model_1.pth'\n",
        "MODEL_SAVE_PATH = MODEL_PATH / MODEL_NAME"
      ],
      "metadata": {
        "id": "G5ddlkaRsrIg"
      },
      "execution_count": 20,
      "outputs": []
    },
    {
      "cell_type": "code",
      "source": [
        "# Saving the model\n",
        "torch.save(obj = model_1.state_dict(), f = MODEL_SAVE_PATH)\n",
        "print(f'Model saved to: {MODEL_SAVE_PATH}')"
      ],
      "metadata": {
        "colab": {
          "base_uri": "https://localhost:8080/"
        },
        "id": "xf3oCDU6s4nH",
        "outputId": "9682fe5d-d88d-4bee-ce37-9a22ac32550c"
      },
      "execution_count": 22,
      "outputs": [
        {
          "output_type": "stream",
          "name": "stdout",
          "text": [
            "Model saved to: /content/drive/MyDrive/ML Models/pytorch_workflow_model_1.pth\n"
          ]
        }
      ]
    },
    {
      "cell_type": "code",
      "source": [
        "# Loading the model\n",
        "loaded_model = LinearRegressionModelV2()\n",
        "print(f'New model parameters: {loaded_model.state_dict()}')\n",
        "loaded_model.load_state_dict(torch.load(f = MODEL_SAVE_PATH))\n",
        "print(f'Loaded model parameters: {loaded_model.state_dict()}')"
      ],
      "metadata": {
        "colab": {
          "base_uri": "https://localhost:8080/"
        },
        "id": "y-wiCH7FtRgy",
        "outputId": "965ae7a5-d489-499a-def2-bca229aba1fa"
      },
      "execution_count": 23,
      "outputs": [
        {
          "output_type": "stream",
          "name": "stdout",
          "text": [
            "New model parameters: OrderedDict([('linear.weight', tensor([[0.7645]])), ('linear.bias', tensor([0.8300]))])\n",
            "Loaded model parameters: OrderedDict([('linear.weight', tensor([[0.6994]])), ('linear.bias', tensor([0.3007]))])\n"
          ]
        },
        {
          "output_type": "stream",
          "name": "stderr",
          "text": [
            "<ipython-input-23-ad1dcd0fab4f>:4: FutureWarning: You are using `torch.load` with `weights_only=False` (the current default value), which uses the default pickle module implicitly. It is possible to construct malicious pickle data which will execute arbitrary code during unpickling (See https://github.com/pytorch/pytorch/blob/main/SECURITY.md#untrusted-models for more details). In a future release, the default value for `weights_only` will be flipped to `True`. This limits the functions that could be executed during unpickling. Arbitrary objects will no longer be allowed to be loaded via this mode unless they are explicitly allowlisted by the user via `torch.serialization.add_safe_globals`. We recommend you start setting `weights_only=True` for any use case where you don't have full control of the loaded file. Please open an issue on GitHub for any issues related to this experimental feature.\n",
            "  loaded_model.load_state_dict(torch.load(f = MODEL_SAVE_PATH))\n"
          ]
        }
      ]
    }
  ],
  "metadata": {
    "colab": {
      "gpuType": "T4",
      "provenance": [],
      "mount_file_id": "19asvlXDo4eaNohdOlihQyjrpB7x0XwWP",
      "authorship_tag": "ABX9TyMwfxctH1ebqKxc0SsOLFrf"
    },
    "kernelspec": {
      "display_name": "Python 3",
      "name": "python3"
    },
    "language_info": {
      "name": "python"
    },
    "accelerator": "GPU"
  },
  "nbformat": 4,
  "nbformat_minor": 0
}